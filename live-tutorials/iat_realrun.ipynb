{
 "cells": [
  {
   "cell_type": "markdown",
   "metadata": {},
   "source": [
    "## IAT: detecting micro-clusters on suspicious behavors\n",
    "\n",
    "A group of fraudsters always behave synchronously in a regular (fixed) pattern, which probably shows\n",
    "suspiciousness comparing to the normally behaving people.\n",
    "Therefore, we study the overall time intervals of users, and detect the suspicious micro-clusters that stands out of the majority distributions.\n",
    "It can be used with vision-guided detection algorithm, EagleMine.\n"
   ]
  },
  {
   "cell_type": "code",
   "execution_count": null,
   "metadata": {},
   "outputs": [],
   "source": [
    "import spartan as st"
   ]
  },
  {
   "cell_type": "markdown",
   "metadata": {},
   "source": [
    "Load data by function ```loadTensor```.<br/>"
   ]
  },
  {
   "cell_type": "code",
   "execution_count": null,
   "metadata": {
    "scrolled": true
   },
   "outputs": [],
   "source": [
    "tensor_data = st.loadTensor(path = \"/home/liushenghua/Data/wbcovid19rummor/renameoppuid/*.reid.reid.gz\", header=None, sep='\\x01')"
   ]
  },
  {
   "cell_type": "code",
   "execution_count": null,
   "metadata": {
    "scrolled": true
   },
   "outputs": [],
   "source": [
    "tensor_data.data"
   ]
  },
  {
   "cell_type": "code",
   "execution_count": null,
   "metadata": {},
   "outputs": [],
   "source": [
    "coords, data = tensor_data.do_map(hasvalue=False, mappers={0:st.TimeMapper(timeformat='%Y-%m-%d %H:%M:%S', timebin = 1, mints = 0)})"
   ]
  },
  {
   "cell_type": "code",
   "execution_count": null,
   "metadata": {},
   "outputs": [],
   "source": [
    "aggts = tensor_data.to_aggts(coords, time_col=0, group_col=[1])\n",
    "len(aggts)"
   ]
  },
  {
   "cell_type": "markdown",
   "metadata": {},
   "source": [
    "## IAT class\n",
    "\n",
    "calaggiat function：calculate iat dict **aggiat** (key:user, value: iat list)\n",
    "\n",
    "caliatcount function：calculate iat count dict **iatcount** (key:iat, value: frequency)\n",
    "\n",
    "caliatpaircount function：calculate iat dict **iatpaircount** (key:(iat1, iat2), value: frequency)\n",
    "\n",
    "get_user_iatpair_dict function：calculate iat dict **user_iatpair** (key:user, value: (iat1, iat2) list)\n",
    "\n",
    "get_iatpair_user_dict function：calculate iat dict **iatpair_user** (key:(iat1, iat2), value: user list)\n",
    "\n",
    "find_iatpair_user function: find users who have input iat pairs\n",
    "\n",
    "find_iatpair_user_ordered function: find Top-K users that have pairs in iatpairs ordered by decreasing frequency\n",
    "\n",
    "drawIatPdf: Plot Iat-Pdf line"
   ]
  },
  {
   "cell_type": "code",
   "execution_count": null,
   "metadata": {},
   "outputs": [],
   "source": [
    "instance = st.IAT()"
   ]
  },
  {
   "cell_type": "code",
   "execution_count": null,
   "metadata": {},
   "outputs": [],
   "source": [
    "# calculate aggiat dict\n",
    "instance.calaggiat(aggts)"
   ]
  },
  {
   "cell_type": "code",
   "execution_count": null,
   "metadata": {},
   "outputs": [],
   "source": [
    "aggiat=instance.aggiat"
   ]
  },
  {
   "cell_type": "code",
   "execution_count": null,
   "metadata": {},
   "outputs": [],
   "source": [
    "instance.save_aggiat('/home/liushenghua/Data/wbcovid19rummor/renameoppuid/aggiat2.dictlist.gz')\n",
    "#instance.load_aggiat('./output/aggiat.dictlist.gz')"
   ]
  },
  {
   "cell_type": "code",
   "execution_count": null,
   "metadata": {},
   "outputs": [],
   "source": [
    "xs, ys = instance.getiatpairs()\n",
    "len(xs), len(ys)"
   ]
  },
  {
   "cell_type": "markdown",
   "metadata": {},
   "source": [
    "## class RectHistogram\n",
    "draw function: draw 2D histogram with rectangular bin\n",
    "\n",
    "find_peak_rects function: find the bin with the largest number of samples in the range of\n",
    "horizontal axis: [x-radius, x+radius]\n",
    "vertical axis: [y-radius, y+radius]\n",
    "    \n",
    "return: (x,y) pairs in the bin that has the largest number of samples "
   ]
  },
  {
   "cell_type": "code",
   "execution_count": null,
   "metadata": {},
   "outputs": [],
   "source": [
    "recthistogram = st.RectHistogram(xscale='log', yscale='log', gridsize=100)"
   ]
  },
  {
   "cell_type": "code",
   "execution_count": null,
   "metadata": {},
   "outputs": [],
   "source": [
    "fig, H, xedges, yedges = recthistogram.draw(xs, ys, xlabel='IATn', ylabel='IATn+1')"
   ]
  },
  {
   "cell_type": "code",
   "execution_count": null,
   "metadata": {},
   "outputs": [],
   "source": [
    "coordpairs = recthistogram.find_peak_rect(xs, ys, H, xedges, yedges, x=100, y=100, radius=100)\n",
    "print(coordpairs)"
   ]
  },
  {
   "cell_type": "markdown",
   "metadata": {},
   "source": [
    "### Find Top-k suspicious users"
   ]
  },
  {
   "cell_type": "code",
   "execution_count": null,
   "metadata": {},
   "outputs": [],
   "source": [
    "usrlist = instance.find_iatpair_user_ordered(coordpairs) # default return all, k = -1\n",
    "print(f\"All user: \\n{usrlist}\")\n",
    "usrlist = instance.find_iatpair_user_ordered(coordpairs, k=5)\n",
    "print(f\"Top-5 user: \\n{usrlist}\")"
   ]
  },
  {
   "cell_type": "markdown",
   "metadata": {},
   "source": [
    "plot iat-pdf line by function `drawIatPdf`"
   ]
  },
  {
   "cell_type": "code",
   "execution_count": null,
   "metadata": {},
   "outputs": [],
   "source": [
    "fig = instance.drawIatPdf(usrlist, outfig='./images/iatpdf_demo.png')"
   ]
  },
  {
   "cell_type": "markdown",
   "metadata": {},
   "source": [
    "It is the result:\n",
    "<img src=\"images/iatpdf_demo.png\" width=\"400\"/> "
   ]
  }
 ],
 "metadata": {
  "kernelspec": {
   "display_name": "Python 3",
   "language": "python",
   "name": "python3"
  },
  "language_info": {
   "codemirror_mode": {
    "name": "ipython",
    "version": 3
   },
   "file_extension": ".py",
   "mimetype": "text/x-python",
   "name": "python",
   "nbconvert_exporter": "python",
   "pygments_lexer": "ipython3",
   "version": "3.7.7"
  }
 },
 "nbformat": 4,
 "nbformat_minor": 4
}
