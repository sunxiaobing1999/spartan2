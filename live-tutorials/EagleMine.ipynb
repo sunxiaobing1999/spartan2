{
 "cells": [
  {
   "cell_type": "markdown",
   "metadata": {},
   "source": [
    "## EagleMine: Beyond outliers and on to micro-clusters: Vision-guided Anomaly Detection.\n",
    "\n",
    "**EagleMine** is a novel tree-based mining approach to recognize and summarize the micro-clusters in the histogram.\n",
    "\n",
    "\n",
    "### Abstract\n",
    "Given a histogram for millions of points, what patterns exist in the distributions of point characteristics, and how can we detect them and separate anomalies in a way similar to human vision? Hence, we propose a vision guided algorithm, EagleMine, to recognize and summarize point groups in the feature spaces. EagleMine utilizes a water-level tree to capture group structures according to vision-based intuition at multiple resolutions, and adopts statistical hypothesis tests to determine the optimal groups along the tree. Moreover,EagleMine can identify anomalous micro-clusters (i.e., micro-size groups), which exhibit very similar behavior but deviate away from the majority.\n",
    "\n",
    "\n",
    "### Summary\n",
    "Inspired by the mechanism of human vision and cognitive system,\n",
    "\n",
    "- **EagleMine** detects and summarizes micro-clusters (dense blocks) in the histogram with a hierarchical tree structure (WaterLevelTree alg.),and reports the suspiciousness score of each micro-cluster based on the deviation from the normal (TreeExplore alg.).\n",
    "\n",
    "- For the large graph, the histogram can be constructed with correlated features of graph nodes, and the micro-clusters correspond to node groups, some of them deviating from the majority and contain anomaly / suspicious objects with high probability.\n",
    "\n",
    "- Correlated features of graph nodes can be: (in / out) Degree, # Triangle, PageRank, Hubness / Authority, Coreness, etc.\n",
    "\n",
    "\n",
    "### Overview\n",
    "\n",
    "| <!-- --> | <!-- -->  | <!-- --> \n",
    "|:------------------------:|:------------------------:|:------------------------:|\n",
    "<img src=\"images/sinaweibo_outd2hub_histogram_label.png\" width=250 /> | <img src=\"images/eaglemine_wlt_1.png\" width=400 /> |  <img src=\"images/eaglemine_wlt_2.png\" width=250/> |\n",
    "<center><b> Histogram on Sina Weibo data </b></center> | <center><b> WaterLevelTree algorithm </b></center> | <center><b> TreeExplore algorithm </b></center> |\n"
   ]
  },
  {
   "cell_type": "code",
   "execution_count": null,
   "metadata": {
    "tags": []
   },
   "outputs": [],
   "source": [
    "import spartan as st"
   ]
  },
  {
   "cell_type": "markdown",
   "metadata": {},
   "source": [
    "You can configure the backend to use GPU or CPU only. Default is using backend cpu. "
   ]
  },
  {
   "cell_type": "markdown",
   "metadata": {},
   "source": [
    "## Run EagleMine as a single model"
   ]
  },
  {
   "cell_type": "markdown",
   "metadata": {},
   "source": [
    "### 1. Create an EagleMine model with basic settings for vocabulary based summarization model:  \n",
    "**_parameter:_**\n",
    "  - *voctype*: vocabulary type: {'dtmnorm','dmgauss'}. *Default is 'dtmnorm'*.\n",
    "  - *mode*: The dimensions of features (the histogram). *Default is $2$*.\n",
    "  - *mix\\_comps*: # mixture component for describing the major island. *Default is $2$*."
   ]
  },
  {
   "cell_type": "code",
   "execution_count": null,
   "metadata": {},
   "outputs": [],
   "source": [
    "voctype = \"dtmnorm\"\n",
    "mode, mix_comps = 2, 2\n",
    "eaglemine = st.EagleMine(voctype=voctype, mode=mode, mix_comps=mix_comps)"
   ]
  },
  {
   "cell_type": "markdown",
   "metadata": {},
   "source": [
    "### 2. Load data for EagleMine: there are two ways to set the input data, i.e.,\n",
    " - [ ] 2.1. load from the off-the-shelf histogram data.\n",
    " - [ ] 2.2. construct histogram based on correlated features (to be extracted) of given a graph."
   ]
  },
  {
   "cell_type": "markdown",
   "metadata": {},
   "source": [
    "####  2.1 Using the off-the-shelf histogram\n",
    "\n",
    "- [x] Histogram from file:\n",
    " - *infn\\_histogram*: Input path of histogram with the format '$(x,y,z, \\cdots)$: val', denoting that the cell $(x,y,z, \\cdots)$ affiliates with value 'val'.\n",
    " - *infn\\_node2hcel*: Input path of the file mapping the node to histogram cell.\n",
    " - *infn\\_hcel2avgfeat*: Input path of the file mapping the histogram cell to the average features and #points"
   ]
  },
  {
   "cell_type": "code",
   "execution_count": null,
   "metadata": {},
   "outputs": [],
   "source": [
    "inpath = \"./inputData/\"\n",
    "infn_histogram = inpath + \"histogram.out\"\n",
    "infn_node2hcel = inpath + \"node2hcel.out\"\n",
    "infn_hcel2avgfeat = inpath + \"hcel2avgfeat.out\""
   ]
  },
  {
   "cell_type": "code",
   "execution_count": null,
   "metadata": {},
   "outputs": [],
   "source": [
    "# load histogram data from file\n",
    "histogram = st.loadFile2Dict(infn_histogram, 2, int, int)\n",
    "node2hcel = st.loadFile2Dict(infn_node2hcel, 1, int, int)\n",
    "hcel2avgfeat = st.loadFile2Dict(infn_hcel2avgfeat, 2, int, float)"
   ]
  },
  {
   "cell_type": "markdown",
   "metadata": {},
   "source": [
    "#### 2.2 Raw graph data for the EagleMine\n",
    "- [x] Given a graph, extracts correlated features as following examples, and then construct a histogram to feed EagleMine:\n",
    "   - bipartite graph:  outdegree vs. hubness  (indegree vs. authorty)\n",
    "   - unipartite graph: degree vs. pagerank"
   ]
  },
  {
   "cell_type": "code",
   "execution_count": null,
   "metadata": {},
   "outputs": [],
   "source": [
    "# load graph data\n",
    "inpath = \"./inputData/\"\n",
    "in_data = inpath + \"example_graph.tensor\"\n",
    "tensor_data = st.loadTensor(path = in_data, header=None)\n",
    "stensor = tensor_data.toSTensor(hasvalue=True)\n",
    "graph = st.Graph(stensor, bipartite=True, weighted=True, modet=2)"
   ]
  },
  {
   "cell_type": "markdown",
   "metadata": {},
   "source": [
    "##### 2.2.1 Extract example features\n",
    "**_parameter:_**\n",
    "  - *graph*: graph data\n",
    "  - *feature\\_type*: Feature type for the graph node: {'outdegree2hubness', 'indegree2authority', 'degree2pagerank'}. *Default is 'outdegree2hubness'.*\n",
    "  \n",
    "**_return:_**\n",
    "  - *degreeidx*: The index of 'degree' feature in 'feature'. *$=0$*\n",
    "  - *feature*: Correlated feature of the graph: numpy.ndarray [$f_x$, $f_y$, $f_z$, $\\ldots$]"
   ]
  },
  {
   "cell_type": "code",
   "execution_count": null,
   "metadata": {
    "tags": []
   },
   "outputs": [],
   "source": [
    "feature_type = 'outdegree2hubness'  #  \"indegree2authority\" #\n",
    "degreeidx, feature = eaglemine.graph2feature(graph, feature_type)"
   ]
  },
  {
   "cell_type": "markdown",
   "metadata": {},
   "source": [
    "#### 2.2.2 Construct histogram based on the above feature\n",
    "**_parameter:_**\n",
    "   - *feature*: Correlated features of the graph\n",
    "   - *degreeidx*: The index of 'degree' feature in 'feature'. *$=0$*\n",
    "   - *N\\_bins*: The expected number of bins for generating histogram. *Default is $80$*.\n",
    "   - *base*: The logarithmic base for bucketing the graph features. *Default is $10$*.\n",
    "   - *mode*: The dimensions of features (the histogram). *Default is $2$*.\n",
    "   - *verbose*: Whether output some running logs. *Default is $True$*.\n",
    "\n",
    "**_return_:**\n",
    "   - *histogram*: (dict) the histogram data: {$(x,y,z, \\cdots)$: cnt}.\n",
    "   - *node2hcel*: (dict) the mapping from graph node id to histogram cell: {node\\_id: $(x,y,z, \\cdots)$}\n",
    "   - *hcel2avgfeat*: (dict) the mapping from histogram cell to the its average feature values\" {$(x,y,z, \\cdots)$: ($\\bar{f_x}, \\bar{f_y}, \\bar{f_z}$, $\\ldots$)}"
   ]
  },
  {
   "cell_type": "code",
   "execution_count": null,
   "metadata": {
    "tags": []
   },
   "outputs": [],
   "source": [
    "histogram, node2hcel,hcel2avgfeat = eaglemine.feature2histogram(feature, degreeidx, N_bins=80, base=10, mode=mode, verbose=True)"
   ]
  },
  {
   "cell_type": "markdown",
   "metadata": {},
   "source": [
    "####  [Optional] 2.2.3 Save generated histogram data\n",
    "**_parameter:_**\n",
    "  - *outfn\\_histogram*: Output path for the histogram. *Default is $None$*.\n",
    "  - *outfn\\_node2hcel*: Output path for the file mapping the node to histogram cell. *Default is $None$*.\n",
    "  - *outfn\\_hcel2avgfeat*: Output path for the file mapping the histogram cell to the average features and #points. *Default is $None$*.\n",
    "  - *comments*: The comments (start character) of inputs. *Default is '$\\#$'*.\n",
    "  - *delimiter*: The separator of items in each line of inputs. *Default is '$,$'*."
   ]
  },
  {
   "cell_type": "code",
   "execution_count": null,
   "metadata": {},
   "outputs": [],
   "source": [
    "outpath = \"./output/\"\n",
    "outs_histogram = outpath + \"histogram.out\"\n",
    "outs_node2hcel = outpath + \"node2hcel.out\"\n",
    "outs_hcel2avgfeat = outpath + \"hcel2avgfeat.out\"\n",
    "eaglemine.save_histogram(outs_histogram, outs_node2hcel, outs_hcel2avgfeat, comments=\"#\", delimiter=\",\")"
   ]
  },
  {
   "cell_type": "markdown",
   "metadata": {},
   "source": [
    "### Feed histogram data to EagleMine model\n",
    "**_parameter_:**\n",
    "   - *histogram*: the histogram data.\n",
    "   - *node2hcel*: the mapping from graph node id to histogram cell.\n",
    "   - *hcel2avgfeat*: the mapping from histogram cell to the its average feature values\".\n",
    "   - *weighted_ftidx*: The feature index as weight for suspiciousness metric.*Default is $0$*."
   ]
  },
  {
   "cell_type": "code",
   "execution_count": null,
   "metadata": {},
   "outputs": [],
   "source": [
    "eaglemine.set_histdata(histogram, node2hcel, hcel2avgfeat, weighted_ftidx=0)"
   ]
  },
  {
   "cell_type": "markdown",
   "metadata": {},
   "source": [
    "### 3. Run the EagleMine model\n",
    "**_parameter:_**\n",
    " - *outs*: Output path for some temporary results.\n",
    " - *waterlevel\\_step*: Step size for raising the water level. *Default is $0.2$*.\n",
    " - *prune\\_alpha*: How proportion of pruning for level-tree. *Default is $0.80$*.\n",
    " - *min\\_pts*: The minimum number of points in a histogram cell. *Default is $20$*.\n",
    " - *strictness*: How strict should the anderson-darling test for normality. 0: not at all strict; 4: very strict. *Default is $3$*.\n",
    " - *verbose*: Whether output some running logs. *Default is $True$*."
   ]
  },
  {
   "cell_type": "code",
   "execution_count": null,
   "metadata": {
    "tags": []
   },
   "outputs": [],
   "source": [
    "outpath = \"./output/\"\n",
    "eaglemine.run(outs=outpath, waterlevel_step=0.2, prune_alpha=0.80, min_pts=20, strictness=3, verbose=True)"
   ]
  },
  {
   "cell_type": "code",
   "execution_count": null,
   "metadata": {
    "tags": []
   },
   "outputs": [],
   "source": [
    "# output model information\n",
    "eaglemine.dump()"
   ]
  },
  {
   "cell_type": "markdown",
   "metadata": {},
   "source": [
    "### [Optional] 4. Save results\n",
    "**_parameter:_**\n",
    "  - *outfn\\_eaglemine*: Output path for the eaglemine data.\n",
    "  - *outfn\\_leveltree*: Output path for the eater-level-tree data. *Default is $None$*.\n",
    "  - *outfn\\_node2label*: Output path for the file mapping the node to the label of cluster. *Default is $None$*.\n",
    "  - *outfn\\_hcel2label*: Output path for the file mapping the histogram cell to the label of cluster. *Default is $None$*.\n",
    "  - *comments*: The comments (start character) of outputs. *Default is '$\\#$'*.\n",
    "  - *delimiter*: The separator of items in each line of outputs. *Default is '$,$'*."
   ]
  },
  {
   "cell_type": "code",
   "execution_count": null,
   "metadata": {
    "tags": []
   },
   "outputs": [],
   "source": [
    "outs_eaglemine = outpath + \"eaglemine.out\"\n",
    "outs_leveltree = outpath + \"waterleveltree.out\"\n",
    "outs_node2label = outpath + \"node2label.out\"\n",
    "outs_hcel2label = outpath + \"hcel2label.out\"\n",
    "eaglemine.save(outs_eaglemine, outs_leveltree, outs_node2label, outs_hcel2label, comments=\"#\", delimiter=\",\")"
   ]
  },
  {
   "cell_type": "markdown",
   "metadata": {},
   "source": [
    "### [Optinal] 5. Result visualization"
   ]
  },
  {
   "cell_type": "code",
   "execution_count": null,
   "metadata": {},
   "outputs": [],
   "source": [
    "from scipy.sparse import csr_matrix"
   ]
  },
  {
   "cell_type": "markdown",
   "metadata": {},
   "source": [
    "#### Visualize the two-dimensional histogram $\\mathcal{H}$\n",
    "**infn: histogram**: the input histogram file with following format:\n",
    "  - the 1st three lines started with ‘#’ are comments for some basic information, that is, 1st line shows the shape of 2-dimensional histogram;\n",
    "  - the 2nd line gives the corresponding real coordinate of each cell coordinate x, and \n",
    "  - the 3rd line is the corresponding real coordinate of each cell coordinate y, these two lines are used for visualizing the histogram. \n",
    "  - then the followed lines are non-zero data records of the histogram."
   ]
  },
  {
   "cell_type": "code",
   "execution_count": null,
   "metadata": {},
   "outputs": [],
   "source": [
    "infn_histogram = inpath + \"histogram.out\"  # outpath + \"histogram.out\" # \n",
    "hist_shape, ticks_dims, hist_arr = st.loadHistogram(infn_histogram)\n",
    "hist_spm = csr_matrix((hist_arr[:, -1], (hist_arr[:, 0], hist_arr[:, 1])), shape=hist_shape, dtype=int)"
   ]
  },
  {
   "cell_type": "code",
   "execution_count": null,
   "metadata": {},
   "outputs": [],
   "source": [
    "outfn_hist = outpath + \"histogram.png\"\n",
    "x_label, y_label = \"Hubness\", \"Out-degree\"  #\"Authority\", \"In-degree\"  # \"PageRank\", \"Degree\"\n",
    "hfig = st.histogram_viz(hist_spm, ticks_dims[1], ticks_dims[0], outfn_hist, x_label=x_label, y_label=y_label)"
   ]
  },
  {
   "cell_type": "markdown",
   "metadata": {},
   "source": [
    "#### Visualize clustering result of EagleMine\n",
    "\n",
    "**infn: hcel2label** (the file for mapping the histogram cell to the label of cluster)"
   ]
  },
  {
   "cell_type": "code",
   "execution_count": null,
   "metadata": {},
   "outputs": [],
   "source": [
    "infn_hcel2label = inpath + \"hcel2label.out\"  #outpath + \"hcel2label.out\" # \n",
    "hcel2lab = st.loadFile2Dict(infn_hcel2label, 2, int, int)"
   ]
  },
  {
   "cell_type": "code",
   "execution_count": null,
   "metadata": {},
   "outputs": [],
   "source": [
    "outfn_hcls = outpath + \"hcluster.png\"\n",
    "hcsl_fig = st.clusters_viz(hcel2lab, outfn_hcls)"
   ]
  },
  {
   "cell_type": "markdown",
   "metadata": {},
   "source": [
    "### Experiment results \n",
    "------\n",
    "\n",
    "#### Performance on real-world Sina Weibo data (user-msg-retweet)：\n",
    "\n",
    "| <!-- --> |  <!-- --> |\n",
    "|:---------------------------:|:---------------------------:|\n",
    "| <img src=\"images/sinaweibo_outd2hub_perform.png\" width=\"360\"/>  | <img src=\"images/sinaweibo_outd2hub_histogram_eaglemine.png\" width=\"240\"/>|\n",
    "| <center><b> Anomaly patterns detected by EagleMine </b></center> | <center><b> EagleMine summarizes the histogram consistent with human vision </b></center> |\n",
    "| <img src=\"images/sinaweibo_auc.png\" width=\"240\"/>  | <img src=\"images/eaglemine_runtime.png\" width=\"260\"/> |\n",
    "| <center><b>  Anomaly detection performance </b></center>| <center><b> EagleMine is linearly scalable** </b></center> |\n",
    "\n",
    "\n",
    "** EagleMine\\_DM use the 'dmgauss' as vocabulary term\n",
    "\n",
    "-----"
   ]
  },
  {
   "cell_type": "markdown",
   "metadata": {},
   "source": [
    "### Cite:\n",
    "------\n",
    "1. Wenjie Feng, Shenghua Liu, Christos Faloutsos, Bryan Hooi, Huawei Shen, and Xueqi Cheng. \"Beyond Outliers and on to Micro-clusters: Vision-Guided Anomaly Detection\". The 23rd Pacific-Asia Conference on Knowledge Discovery and Data Mining, pp. 541--554. 2019, Springer.\n",
    "\n",
    "    <details>\n",
    "    <summary><span style=\"color:blue\">click for BibTex...</span></summary>\n",
    "    \n",
    "    ```bibtex\n",
    "    @inproceedings{feng2019beyond,\n",
    "      title={Beyond Outliers and on to Micro-clusters: Vision-Guided Anomaly Detection},\n",
    "      author={Wenjie Feng, Shenghua Liu, Christos Faloutsos, Bryan Hooi, Huawei Shen, and Xueqi Cheng},\n",
    "      booktitle={The 23rd Pacific-Asia Conference on Knowledge Discovery and Data Mining},\n",
    "      pages={541--554},\n",
    "      year={2019},\n",
    "      organization={Springer}\n",
    "    }\n",
    "    ```\n",
    "    </details>\n",
    "    \n",
    "2. TBD."
   ]
  },
  {
   "cell_type": "code",
   "execution_count": null,
   "metadata": {},
   "outputs": [],
   "source": []
  }
 ],
 "metadata": {
  "kernelspec": {
   "display_name": "Python 3.7.3 64-bit ('venv37': conda)",
   "language": "python",
   "name": "python37364bitvenv37conda17e32ec9db3c4605a36f6618a88bfccf"
  },
  "language_info": {
   "codemirror_mode": {
    "name": "ipython",
    "version": 3
   },
   "file_extension": ".py",
   "mimetype": "text/x-python",
   "name": "python",
   "nbconvert_exporter": "python",
   "pygments_lexer": "ipython3",
   "version": "3.7.3-final"
  },
  "pycharm": {
   "stem_cell": {
    "cell_type": "raw",
    "source": [],
    "metadata": {
     "collapsed": false
    }
   }
  }
 },
 "nbformat": 4,
 "nbformat_minor": 2
}