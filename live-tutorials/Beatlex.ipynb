{
 "cells": [
  {
   "cell_type": "markdown",
   "metadata": {},
   "source": [
    "## BEATLEX: Summarizing and Forecasting Time Series with Patterns\n",
    "\n",
    "### Abstract\n",
    "Given time-series data such as electrocardiogram (ECG) readings, or motion capture data, how can we succintly summarize the data in a way that robustly identifies patterns that appear repeatedly? How can we then use such a summary to identify anomalies such as abnormal heartbeats, and also forecast future values of the time series? Our main idea is a vocabulary-based approach, which automatically learns a set of common patterns, or ‘beat patterns,’ which are used as building blocks to describe the time series in an intuitive and interpretable way. Our summarization algorithm, BEATLEX (BEAT LEXicons for Summarization) is: 1) fast and online, requiring linear time in the data size and bounded memory; 2) effective, outperforming competing algorithms in labelling accuracy by 5.3 times, and forecasting accuracy by 1.8 times; 3) principled and parameterfree, as it is based on the Minimum Description Length principle of summarizing the data by compressing it using as few bits as possible, and automatically tunes all its parameters; 4) general: it applies to any domain of time series data, and can make use of multidimensional (i.e. coevolving) time series."
   ]
  },
  {
   "cell_type": "markdown",
   "metadata": {},
   "source": [
    "You can configure the backend to use GPU or CPU only. \\\n",
    "Default is using backend cpu. "
   ]
  },
  {
   "cell_type": "code",
   "execution_count": null,
   "metadata": {},
   "outputs": [],
   "source": [
    "import sys\n",
    "sys.path.append('..')\n",
    "import spartan as st"
   ]
  },
  {
   "cell_type": "markdown",
   "metadata": {},
   "source": [
    "```loadTensor``` function automatically read data from file and ```toDTensor``` function extract time and value separately from the tensor.<br/>```Timeseries``` class is designed to construct time tensor."
   ]
  },
  {
   "cell_type": "code",
   "execution_count": null,
   "metadata": {},
   "outputs": [],
   "source": [
    "time, value = st.loadTensor(path = \"inputData/example_time.tensor\", col_types = [float, float, float]).toDTensor(hastticks=True)\n",
    "time_series = st.Timeseries(value, time)\n",
    "st.plot_timeseries(time_series.cut(0, 4000))"
   ]
  },
  {
   "cell_type": "markdown",
   "metadata": {},
   "source": [
    "### Run Beatlex from specific task"
   ]
  },
  {
   "cell_type": "code",
   "execution_count": null,
   "metadata": {},
   "outputs": [],
   "source": [
    "ss_task = st.Summarization.create(time_series, st.SumPolicy.BeatLex, 'my_beatlex_model')"
   ]
  },
  {
   "cell_type": "code",
   "execution_count": null,
   "metadata": {},
   "outputs": [],
   "source": [
    "result = ss_task.run()"
   ]
  },
  {
   "cell_type": "markdown",
   "metadata": {},
   "source": [
    "### Run Beatlex as a single model"
   ]
  },
  {
   "cell_type": "code",
   "execution_count": null,
   "metadata": {},
   "outputs": [],
   "source": [
    "beatlex = st.BeatLex(time_series)"
   ]
  },
  {
   "cell_type": "code",
   "execution_count": null,
   "metadata": {},
   "outputs": [],
   "source": [
    "result = beatlex.run()"
   ]
  },
  {
   "cell_type": "code",
   "execution_count": null,
   "metadata": {
    "scrolled": true
   },
   "outputs": [],
   "source": [
    "st.plot(st.BeatLex, time_series, result)"
   ]
  },
  {
   "cell_type": "markdown",
   "metadata": {},
   "source": [
    "Vocabularies | Segmentation\n",
    ":-------------------------:|:-------------------------:\n",
    "<img src=\"images/beatlexSum1.png\" width=\"300\"/>  |   <img src=\"images/beatlexSum2.png\" width=\"300\"/>\n",
    "<b>Vocabularies learned by BeatLex. |  <b>Segmentation made by BeatLex."
   ]
  },
  {
   "cell_type": "markdown",
   "metadata": {},
   "source": [
    "### Experiment Results\n",
    "------\n",
    "Beatlex(ECG)      |  Beatlex(Motion)\n",
    ":-------------------------:|:-------------------------:\n",
    "<img src=\"images/beatlexExp1.png\" width=\"300\"/>  |   <img src=\"images/beatlexExp2.png\" width=\"300\"/>\n",
    "<b>Beatlex segments and labels data. |  <b>Beatlex learns vocabulary."
   ]
  },
  {
   "cell_type": "markdown",
   "metadata": {},
   "source": [
    "### Cite:\n",
    "------\n",
    "1. Hooi, Bryan, et al. \"B eat L ex: Summarizing and Forecasting Time Series with Patterns.\" Joint European Conference on Machine Learning and Knowledge Discovery in Databases. Springer, Cham, 2017.\n",
    "\n",
    "    <details>\n",
    "    <summary><span style=\"color:blue\">click for BibTex...</span></summary>\n",
    "\n",
    "    ```bibtex\n",
    "    @inproceedings{hooi2017b,\n",
    "      title={B eat L ex: Summarizing and Forecasting Time Series with Patterns},\n",
    "      author={Hooi, Bryan and Liu, Shenghua and Smailagic, Asim and Faloutsos, Christos},\n",
    "      booktitle={Joint European Conference on Machine Learning and Knowledge Discovery in Databases},\n",
    "      pages={3--19},\n",
    "      year={2017},\n",
    "      organization={Springer}\n",
    "    }\n",
    "    ```\n",
    "    </details>"
   ]
  }
 ],
 "metadata": {
  "kernelspec": {
   "display_name": "Python 3",
   "language": "python",
   "name": "python3"
  },
  "language_info": {
   "codemirror_mode": {
    "name": "ipython",
    "version": 3
   },
   "file_extension": ".py",
   "mimetype": "text/x-python",
   "name": "python",
   "nbconvert_exporter": "python",
   "pygments_lexer": "ipython3",
   "version": "3.7.6"
  }
 },
 "nbformat": 4,
 "nbformat_minor": 4
}
